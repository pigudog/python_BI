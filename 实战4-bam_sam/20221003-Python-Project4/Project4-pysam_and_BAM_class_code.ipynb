{
 "cells": [
  {
   "cell_type": "markdown",
   "id": "e6ec90c8-2669-4f45-bef9-8ba41d005d8a",
   "metadata": {},
   "source": [
    "# project 4 pysam and BAM file\n",
    "\n",
    "By MENG Haowei \n",
    "\n",
    "2022-10-03"
   ]
  },
  {
   "cell_type": "code",
   "execution_count": 2,
   "id": "d2c8f5f6-5ecf-4d4f-b1e7-7c6f76efafe3",
   "metadata": {},
   "outputs": [],
   "source": [
    "import pysam"
   ]
  },
  {
   "cell_type": "code",
   "execution_count": 3,
   "id": "c7c68f3a-f4ae-4fa4-a2b9-1b32a152babd",
   "metadata": {},
   "outputs": [
    {
     "data": {
      "text/plain": [
       "'0.15.4'"
      ]
     },
     "execution_count": 3,
     "metadata": {},
     "output_type": "execute_result"
    }
   ],
   "source": [
    "pysam.__version__"
   ]
  },
  {
   "cell_type": "code",
   "execution_count": 4,
   "id": "9ee14ea5-79da-40bf-bc90-c323401caa4a",
   "metadata": {},
   "outputs": [
    {
     "name": "stdout",
     "output_type": "stream",
     "text": [
      "A00509:35:HKYCWDSXX:1:1235:32506:9314\t163\t20\t5010083\t1\t99M\t20\t5010169\t99\tATGACAGAGTGAGGGCCATCACTGTTAATGAAGCCAGTGTTGCTCACAGCCTCCCCTTGGTCACTTTTTGTGACTGAAGGGCATGTGTTCAGGCAAGAT\tarray('B', [37, 37, 37, 37, 37, 37, 37, 37, 37, 37, 37, 37, 37, 37, 37, 37, 37, 37, 37, 37, 37, 37, 37, 37, 37, 37, 25, 37, 37, 37, 37, 37, 37, 37, 37, 25, 37, 25, 37, 25, 37, 37, 37, 37, 37, 37, 37, 37, 37, 37, 37, 25, 37, 37, 37, 37, 37, 25, 37, 37, 37, 37, 37, 37, 37, 37, 25, 37, 37, 37, 37, 37, 37, 37, 37, 37, 37, 37, 37, 37, 37, 37, 37, 25, 37, 37, 37, 37, 37, 37, 37, 37, 37, 37, 37, 25, 37, 37, 11])\t[('MC', '99M'), ('MD', '99'), ('PG', 'MarkDuplicates'), ('XG', 0), ('NM', 0), ('XM', 0), ('XN', 0), ('XO', 0), ('MQ', 1), ('AS', 0), ('XS', 0), ('YS', 0), ('YT', 'CP')]\n"
     ]
    }
   ],
   "source": [
    "# open SAM/BAM file  in order\n",
    "\n",
    "input_filename = \"/Users/meng/menghw_HD/course_project/02.python/project.04/data/K562-ATACSeq-rep1.ENCFF534DCE_chr21.bam\"\n",
    "\n",
    "bam_file = pysam.AlignmentFile(input_filename, \"rb\")\n",
    "\n",
    "for align in bam_file:\n",
    "    print(align)\n",
    "    break\n",
    "\n"
   ]
  },
  {
   "cell_type": "code",
   "execution_count": 5,
   "id": "81cdf137-a939-4b4b-915b-a72d6abc6b76",
   "metadata": {},
   "outputs": [
    {
     "data": {
      "text/plain": [
       "163"
      ]
     },
     "execution_count": 5,
     "metadata": {},
     "output_type": "execute_result"
    }
   ],
   "source": [
    "# FLAG\n",
    "align.flag"
   ]
  },
  {
   "cell_type": "code",
   "execution_count": 6,
   "id": "fa70794d-88ee-4baf-8cf5-f6fae09b2ef4",
   "metadata": {},
   "outputs": [
    {
     "data": {
      "text/plain": [
       "True"
      ]
     },
     "execution_count": 6,
     "metadata": {},
     "output_type": "execute_result"
    }
   ],
   "source": [
    "align.is_proper_pair"
   ]
  },
  {
   "cell_type": "code",
   "execution_count": 7,
   "id": "a4113b79-3c8a-40ba-811d-a704b99d639b",
   "metadata": {},
   "outputs": [
    {
     "data": {
      "text/plain": [
       "False"
      ]
     },
     "execution_count": 7,
     "metadata": {},
     "output_type": "execute_result"
    }
   ],
   "source": [
    "align.is_duplicate"
   ]
  },
  {
   "cell_type": "code",
   "execution_count": 8,
   "id": "6d943edc-6dfb-455f-b676-f8a159c2aa45",
   "metadata": {},
   "outputs": [
    {
     "data": {
      "text/plain": [
       "False"
      ]
     },
     "execution_count": 8,
     "metadata": {},
     "output_type": "execute_result"
    }
   ],
   "source": [
    "align.is_read1"
   ]
  },
  {
   "cell_type": "code",
   "execution_count": 9,
   "id": "41fb7642-8734-4d6c-8956-3a0a27bd4d77",
   "metadata": {},
   "outputs": [
    {
     "data": {
      "text/plain": [
       "'99M'"
      ]
     },
     "execution_count": 9,
     "metadata": {},
     "output_type": "execute_result"
    }
   ],
   "source": [
    "# CIGAR\n",
    "align.cigarstring"
   ]
  },
  {
   "cell_type": "code",
   "execution_count": 12,
   "id": "04d7fbd3-23fa-44c8-b3a3-741f380de5aa",
   "metadata": {},
   "outputs": [
    {
     "data": {
      "text/plain": [
       "[('MC', '99M'),\n",
       " ('MD', '99'),\n",
       " ('PG', 'MarkDuplicates'),\n",
       " ('XG', 0),\n",
       " ('NM', 0),\n",
       " ('XM', 0),\n",
       " ('XN', 0),\n",
       " ('XO', 0),\n",
       " ('MQ', 1),\n",
       " ('AS', 0),\n",
       " ('XS', 0),\n",
       " ('YS', 0),\n",
       " ('YT', 'CP')]"
      ]
     },
     "execution_count": 12,
     "metadata": {},
     "output_type": "execute_result"
    }
   ],
   "source": [
    "align.tags"
   ]
  },
  {
   "cell_type": "code",
   "execution_count": 11,
   "id": "aa92a474-703d-48f8-b599-fc9d7dd10aca",
   "metadata": {},
   "outputs": [
    {
     "data": {
      "text/plain": [
       "[(0, 5010083),\n",
       " (1, 5010084),\n",
       " (2, 5010085),\n",
       " (3, 5010086),\n",
       " (4, 5010087),\n",
       " (5, 5010088),\n",
       " (6, 5010089),\n",
       " (7, 5010090),\n",
       " (8, 5010091),\n",
       " (9, 5010092),\n",
       " (10, 5010093),\n",
       " (11, 5010094),\n",
       " (12, 5010095),\n",
       " (13, 5010096),\n",
       " (14, 5010097),\n",
       " (15, 5010098),\n",
       " (16, 5010099),\n",
       " (17, 5010100),\n",
       " (18, 5010101),\n",
       " (19, 5010102),\n",
       " (20, 5010103),\n",
       " (21, 5010104),\n",
       " (22, 5010105),\n",
       " (23, 5010106),\n",
       " (24, 5010107),\n",
       " (25, 5010108),\n",
       " (26, 5010109),\n",
       " (27, 5010110),\n",
       " (28, 5010111),\n",
       " (29, 5010112),\n",
       " (30, 5010113),\n",
       " (31, 5010114),\n",
       " (32, 5010115),\n",
       " (33, 5010116),\n",
       " (34, 5010117),\n",
       " (35, 5010118),\n",
       " (36, 5010119),\n",
       " (37, 5010120),\n",
       " (38, 5010121),\n",
       " (39, 5010122),\n",
       " (40, 5010123),\n",
       " (41, 5010124),\n",
       " (42, 5010125),\n",
       " (43, 5010126),\n",
       " (44, 5010127),\n",
       " (45, 5010128),\n",
       " (46, 5010129),\n",
       " (47, 5010130),\n",
       " (48, 5010131),\n",
       " (49, 5010132),\n",
       " (50, 5010133),\n",
       " (51, 5010134),\n",
       " (52, 5010135),\n",
       " (53, 5010136),\n",
       " (54, 5010137),\n",
       " (55, 5010138),\n",
       " (56, 5010139),\n",
       " (57, 5010140),\n",
       " (58, 5010141),\n",
       " (59, 5010142),\n",
       " (60, 5010143),\n",
       " (61, 5010144),\n",
       " (62, 5010145),\n",
       " (63, 5010146),\n",
       " (64, 5010147),\n",
       " (65, 5010148),\n",
       " (66, 5010149),\n",
       " (67, 5010150),\n",
       " (68, 5010151),\n",
       " (69, 5010152),\n",
       " (70, 5010153),\n",
       " (71, 5010154),\n",
       " (72, 5010155),\n",
       " (73, 5010156),\n",
       " (74, 5010157),\n",
       " (75, 5010158),\n",
       " (76, 5010159),\n",
       " (77, 5010160),\n",
       " (78, 5010161),\n",
       " (79, 5010162),\n",
       " (80, 5010163),\n",
       " (81, 5010164),\n",
       " (82, 5010165),\n",
       " (83, 5010166),\n",
       " (84, 5010167),\n",
       " (85, 5010168),\n",
       " (86, 5010169),\n",
       " (87, 5010170),\n",
       " (88, 5010171),\n",
       " (89, 5010172),\n",
       " (90, 5010173),\n",
       " (91, 5010174),\n",
       " (92, 5010175),\n",
       " (93, 5010176),\n",
       " (94, 5010177),\n",
       " (95, 5010178),\n",
       " (96, 5010179),\n",
       " (97, 5010180),\n",
       " (98, 5010181)]"
      ]
     },
     "execution_count": 11,
     "metadata": {},
     "output_type": "execute_result"
    }
   ],
   "source": [
    "# mutation align info \n",
    "align.get_aligned_pairs()"
   ]
  },
  {
   "cell_type": "code",
   "execution_count": 14,
   "id": "d2ef4558-1272-4580-a676-66d6bc7b0592",
   "metadata": {},
   "outputs": [
    {
     "data": {
      "text/plain": [
       "'ATGACAGAGTGAGGGCCATCACTGTTAATGAAGCCAGTGTTGCTCACAGCCTCCCCTTGGTCACTTTTTGTGACTGAAGGGCATGTGTTCAGGCAAGAT'"
      ]
     },
     "execution_count": 14,
     "metadata": {},
     "output_type": "execute_result"
    }
   ],
   "source": [
    "align.seq"
   ]
  },
  {
   "cell_type": "code",
   "execution_count": 15,
   "id": "f19305bb-e7b4-45c5-a522-9ea5644c967f",
   "metadata": {},
   "outputs": [
    {
     "data": {
      "text/plain": [
       "'A00509:35:HKYCWDSXX:1:1235:32506:9314'"
      ]
     },
     "execution_count": 15,
     "metadata": {},
     "output_type": "execute_result"
    }
   ],
   "source": [
    "align.qname"
   ]
  },
  {
   "cell_type": "code",
   "execution_count": null,
   "id": "1c01df8e-c8dc-4614-adcd-26df155af054",
   "metadata": {},
   "outputs": [],
   "source": [
    "# test region chr21:20,998,316-20,998,422\n",
    "# test region chr21:20,998,800-20,998,805"
   ]
  },
  {
   "cell_type": "code",
   "execution_count": 19,
   "id": "b937494f-a39f-4cee-95ce-982a44f15923",
   "metadata": {},
   "outputs": [
    {
     "name": "stdout",
     "output_type": "stream",
     "text": [
      "A00509:35:HKYCWDSXX:1:2214:32090:4679\t147\t20\t20998219\t255\t99M\t20\t20997661\t99\tCGGAAGAGCGGCCGCCGTGCAGCGCGGAGGGATACGCCTCGGCCGCACCTCCCCTCGCCGCGCCCCCGCCCCCGCCGCCCTCCCCGCCCGGCTCTGCTG\tarray('B', [11, 37, 37, 37, 37, 37, 37, 37, 37, 37, 37, 37, 37, 37, 37, 25, 37, 25, 37, 37, 37, 37, 37, 37, 37, 37, 37, 25, 37, 37, 37, 37, 37, 11, 37, 25, 37, 37, 37, 37, 37, 37, 25, 37, 37, 11, 37, 37, 37, 25, 37, 37, 37, 37, 37, 37, 37, 37, 37, 37, 37, 37, 37, 37, 37, 37, 37, 37, 37, 37, 37, 37, 37, 37, 37, 37, 37, 37, 37, 25, 11, 37, 37, 37, 37, 37, 37, 25, 37, 37, 37, 37, 37, 37, 25, 37, 37, 37, 37])\t[('MC', '99M'), ('MD', '99'), ('PG', 'MarkDuplicates'), ('XG', 0), ('NM', 0), ('XM', 0), ('XN', 0), ('XO', 0), ('MQ', 255), ('AS', 0), ('YS', 0), ('YT', 'CP')]\n"
     ]
    }
   ],
   "source": [
    "input_filename = \"/Users/meng/menghw_HD/course_project/02.python/project.04/data/K562-ATACSeq-rep1.ENCFF534DCE_chr21.bam\"\n",
    "\n",
    "bam_file = pysam.AlignmentFile(input_filename, \"rb\")\n",
    "\n",
    "for align in bam_file.fetch(contig=\"chr21\",  start=20998316, end=20998422):\n",
    "    print(align)\n",
    "    break\n",
    "\n",
    "\n"
   ]
  },
  {
   "cell_type": "code",
   "execution_count": 16,
   "id": "67ee8b9b-a9bf-429c-aa6e-da9e74f9c49e",
   "metadata": {},
   "outputs": [
    {
     "data": {
      "text/plain": [
       "\u001b[0;31mDocstring:\u001b[0m\n",
       "AlignmentFile.fetch(self, contig=None, start=None, stop=None, region=None, tid=None, until_eof=False, multiple_iterators=False, reference=None, end=None)\n",
       "fetch reads aligned in a :term:`region`.\n",
       "\n",
       "        See :meth:`~pysam.HTSFile.parse_region` for more information\n",
       "        on how genomic regions can be specified. :term:`reference` and\n",
       "        `end` are also accepted for backward compatiblity as synonyms\n",
       "        for :term:`contig` and `stop`, respectively.\n",
       "\n",
       "        Without a `contig` or `region` all mapped reads in the file\n",
       "        will be fetched. The reads will be returned ordered by reference\n",
       "        sequence, which will not necessarily be the order within the\n",
       "        file. This mode of iteration still requires an index. If there is\n",
       "        no index, use `until_eof=True`.\n",
       "\n",
       "        If only `contig` is set, all reads aligned to `contig`\n",
       "        will be fetched.\n",
       "\n",
       "        A :term:`SAM` file does not allow random access. If `region`\n",
       "        or `contig` are given, an exception is raised.\n",
       "\n",
       "        Parameters\n",
       "        ----------\n",
       "\n",
       "        until_eof : bool\n",
       "\n",
       "           If `until_eof` is True, all reads from the current file\n",
       "           position will be returned in order as they are within the\n",
       "           file. Using this option will also fetch unmapped reads.\n",
       "\n",
       "        multiple_iterators : bool\n",
       "\n",
       "           If `multiple_iterators` is True, multiple\n",
       "           iterators on the same file can be used at the same time. The\n",
       "           iterator returned will receive its own copy of a filehandle to\n",
       "           the file effectively re-opening the file. Re-opening a file\n",
       "           creates some overhead, so beware.\n",
       "\n",
       "        Returns\n",
       "        -------\n",
       "\n",
       "        An iterator over a collection of reads.\n",
       "\n",
       "        Raises\n",
       "        ------\n",
       "\n",
       "        ValueError\n",
       "            if the genomic coordinates are out of range or invalid or the\n",
       "            file does not permit random access to genomic coordinates.\n",
       "\n",
       "        \n",
       "\u001b[0;31mType:\u001b[0m      builtin_function_or_method\n"
      ]
     },
     "metadata": {},
     "output_type": "display_data"
    }
   ],
   "source": [
    "?bam_file.fetch"
   ]
  },
  {
   "cell_type": "code",
   "execution_count": null,
   "id": "66c6bfde-06f2-45c8-abeb-c51dcd8a7152",
   "metadata": {},
   "outputs": [],
   "source": []
  },
  {
   "cell_type": "code",
   "execution_count": 25,
   "id": "85683906-c52d-435f-94bd-b317ca5c17dd",
   "metadata": {},
   "outputs": [],
   "source": [
    "# filter out any read in a pair contain a MAPQ < 30 \n",
    "\n",
    "input_filename = \"/Users/meng/menghw_HD/course_project/02.python/project.04/data/K562-ATACSeq-rep1.ENCFF534DCE_chr21.bam\"\n",
    "\n",
    "bam_file = pysam.AlignmentFile(input_filename, \"rb\")\n",
    "\n",
    "out_filename = \"/Users/meng/Desktop/K562-ATACSeq-rep1.MAQP30.bam\"\n",
    "out_bam_file = pysam.AlignmentFile(out_filename, \"wb\", template=bam_file)\n",
    "\n",
    "temp_dict = {}\n",
    "\n",
    "total_count = 0\n",
    "out_paris_count = 0\n",
    "\n",
    "for align in bam_file:    \n",
    "    total_count += 1\n",
    "    \n",
    "    if temp_dict.get(align.qname) is None:\n",
    "        temp_dict[align.qname] = align\n",
    "    \n",
    "    else:\n",
    "        if align.mapq >= 30 and temp_dict[align.qname].mapq >= 30:\n",
    "            out_paris_count += 1\n",
    "            out_bam_file.write(align)\n",
    "            out_bam_file.write(temp_dict[align.qname])\n",
    "            \n",
    "# close file \n",
    "bam_file.close()\n",
    "out_bam_file.close()\n"
   ]
  },
  {
   "cell_type": "code",
   "execution_count": null,
   "id": "7afe6bca-9867-43e2-950a-692127558f4a",
   "metadata": {},
   "outputs": [],
   "source": []
  },
  {
   "cell_type": "code",
   "execution_count": 26,
   "id": "7c40ed2a-002f-4125-af6e-8da0e564de32",
   "metadata": {},
   "outputs": [],
   "source": [
    "# separate BAM alignment reads by fragment length [ATAC-seq data]\n",
    "\n",
    "input_filename = \"/Users/meng/menghw_HD/course_project/02.python/project.04/data/K562-ATACSeq-rep1.ENCFF534DCE_chr21.bam\"\n",
    "\n",
    "bam_file = pysam.AlignmentFile(input_filename, \"rb\")\n",
    "\n",
    "out_longer120_filename = \"/Users/meng/Desktop/K562-ATACSeq-rep1.longer120.bam\"\n",
    "out_shorter120_filename = \"/Users/meng/Desktop/K562-ATACSeq-rep1.short120.bam\"\n",
    "\n",
    "out_longer120_file = pysam.AlignmentFile(out_longer120_filename, \"wb\", template=bam_file)\n",
    "out_shorter120_file = pysam.AlignmentFile(out_shorter120_filename, \"wb\", template=bam_file)\n",
    "\n",
    "for align in bam_file:    \n",
    "    if align.template_length > 120:\n",
    "        out_longer120_file.write(align)\n",
    "    else:\n",
    "        out_shorter120_file.write(align)\n",
    "        \n",
    "# close file \n",
    "bam_file.close()\n",
    "\n",
    "out_longer120_file.close()\n",
    "out_shorter120_file.close()"
   ]
  },
  {
   "cell_type": "code",
   "execution_count": null,
   "id": "63630640-818d-4ad4-ac07-c97aca07f51f",
   "metadata": {},
   "outputs": [],
   "source": []
  },
  {
   "cell_type": "code",
   "execution_count": 1,
   "id": "9c1ed471-1f80-427a-9aad-179b282f121e",
   "metadata": {},
   "outputs": [
    {
     "ename": "NameError",
     "evalue": "name 'pysam' is not defined",
     "output_type": "error",
     "traceback": [
      "\u001b[0;31m---------------------------------------------------------------------------\u001b[0m",
      "\u001b[0;31mNameError\u001b[0m                                 Traceback (most recent call last)",
      "Input \u001b[0;32mIn [1]\u001b[0m, in \u001b[0;36m<cell line: 11>\u001b[0;34m()\u001b[0m\n\u001b[1;32m      9\u001b[0m \u001b[38;5;66;03m# open file \u001b[39;00m\n\u001b[1;32m     10\u001b[0m input_bed \u001b[38;5;241m=\u001b[39m \u001b[38;5;28mopen\u001b[39m(input_bed_filename, \u001b[38;5;124m\"\u001b[39m\u001b[38;5;124mr\u001b[39m\u001b[38;5;124m\"\u001b[39m)\n\u001b[0;32m---> 11\u001b[0m bam_file \u001b[38;5;241m=\u001b[39m \u001b[43mpysam\u001b[49m\u001b[38;5;241m.\u001b[39mAlignmentFile(input_bam_filename, \u001b[38;5;124m\"\u001b[39m\u001b[38;5;124mrb\u001b[39m\u001b[38;5;124m\"\u001b[39m)\n\u001b[1;32m     12\u001b[0m out_file \u001b[38;5;241m=\u001b[39m \u001b[38;5;28mopen\u001b[39m(\u001b[38;5;124m\"\u001b[39m\u001b[38;5;124m./query_region_count.tsv\u001b[39m\u001b[38;5;124m\"\u001b[39m, \u001b[38;5;124m\"\u001b[39m\u001b[38;5;124mw\u001b[39m\u001b[38;5;124m\"\u001b[39m)\n\u001b[1;32m     14\u001b[0m \u001b[38;5;66;03m# count total \u001b[39;00m\n",
      "\u001b[0;31mNameError\u001b[0m: name 'pysam' is not defined"
     ]
    }
   ],
   "source": [
    "# query region CPM FPKM and RPKM\n",
    "\n",
    "# CTCF region \n",
    "input_bed_filename = \"./CTCF_rep1.sort.chr21.bed\"\n",
    "input_bam_filename = \"/Users/meng/menghw_HD/course_project/02.python/project.04/data/K562-ATACSeq-rep1.ENCFF534DCE_chr21.bam\"\n",
    "\n",
    "norm_method = \"CPM\"\n",
    "\n",
    "# open file \n",
    "input_bed = open(input_bed_filename, \"r\")\n",
    "bam_file = pysam.AlignmentFile(input_bam_filename, \"rb\")\n",
    "out_file = open(\"./query_region_count.tsv\", \"w\")\n",
    "\n",
    "# count total \n",
    "total_count = 0\n",
    "\n",
    "for info in bam_file.get_index_statistics():\n",
    "    total_count += info.mapped\n",
    "\n",
    "print(\"total_count: \", total_count)\n",
    "\n",
    "temp_dict = {}\n",
    "\n",
    "for line in input_bed:\n",
    "    line_list = line.strip().split(\"\\t\")\n",
    "    \n",
    "    region_chr_name = line_list[0]\n",
    "    region_start = int(line_list[1])\n",
    "    region_end = int(line_list[2])\n",
    "    \n",
    "    region_count = 0\n",
    "    region_frag_count = 0\n",
    "    for align in bam_file.fetch(contig=region_chr_name, start=region_start, end=region_end):\n",
    "        region_count += 1\n",
    "        \n",
    "        if temp_dict.get(align.qname) is None:\n",
    "            region_frag_count += 1\n",
    "            temp_dict[align.qname] = 0\n",
    "        else:\n",
    "            pass\n",
    "    \n",
    "    cpm = region_count / 1.0 / (total_count / 1e6)\n",
    "    \n",
    "    region_length = region_end - region_start\n",
    "    rpkm = region_count / 1.0 / (total_count / 1e6) / (region_length / 1e3)\n",
    "    fpkm = region_frag_count / 1.0 / (total_count / 2 / 1e6) / (region_length / 1e3)\n",
    "    \n",
    "    \n",
    "    out_list = line_list[:3] + [round(cpm, 5), round(rpkm, 5), round(fpkm, 5)]\n",
    "    \n",
    "    out_str = \"\\t\".join(map(str, out_list)) \n",
    "    \n",
    "    out_file.write(out_str + \"\\n\")\n",
    "    \n",
    "# close file    \n",
    "input_bed.close()\n",
    "bam_file.close()\n",
    "out_file.close()\n",
    "    \n",
    "    "
   ]
  },
  {
   "cell_type": "code",
   "execution_count": null,
   "id": "54a38e38-79d7-499f-b216-dc33db82cc8e",
   "metadata": {},
   "outputs": [],
   "source": []
  },
  {
   "cell_type": "code",
   "execution_count": 70,
   "id": "6e9a5684-4af9-4f58-8ff2-6eef92303465",
   "metadata": {},
   "outputs": [],
   "source": [
    "# partV find region signicant mutation sites\n",
    "\n",
    "from Bio import SeqIO\n",
    "from scipy import stats\n",
    "\n",
    "# FDR\n",
    "import statsmodels.stats.multitest as multi\n",
    "import numpy as np"
   ]
  },
  {
   "cell_type": "code",
   "execution_count": 56,
   "id": "9827a18d-b1cc-4ad5-8e87-89566056b5d6",
   "metadata": {},
   "outputs": [
    {
     "name": "stdout",
     "output_type": "stream",
     "text": [
      "ID: chr21\n",
      "Name: chr21\n",
      "Description: chr21\n",
      "Number of features: 0\n",
      "Seq('NNNNNNNNNNNNNNNNNNNNNNNNNNNNNNNNNNNNNNNNNNNNNNNNNNNNNN...NNN')\n"
     ]
    }
   ],
   "source": [
    "ref_fa_dict = {}\n",
    "\n",
    "for record in SeqIO.parse(\"/Users/meng/menghw_HD/reference/hg38/chr21.fa\", format=\"fasta\"):\n",
    "    print(record)\n",
    "    ref_fa_dict[record.id] = record.seq.upper()\n"
   ]
  },
  {
   "cell_type": "code",
   "execution_count": 74,
   "id": "d16c7286-e99d-4017-b81b-a73b8e94a1a7",
   "metadata": {},
   "outputs": [],
   "source": [
    "# FDR\n",
    "def make_qvalue_with_BH_method(pval_list):\n",
    "    \"\"\"\n",
    "    INPUT:\n",
    "        <pval_list>\n",
    "            list, may contain 'NA' value\n",
    "\n",
    "    RETURN\n",
    "        <fdr_list>\n",
    "            list, return FDR list with BH method.\n",
    "\n",
    "    \"\"\"\n",
    "\n",
    "    # init vars\n",
    "    raw_pval_index_dict = {}\n",
    "    rm_NA_pval_list = []\n",
    "    run_index = 0\n",
    "\n",
    "    for index, pval in enumerate(pval_list):\n",
    "        if pval != \"NA\":\n",
    "            rm_NA_pval_list.append(pval)\n",
    "            raw_pval_index_dict[run_index] = index\n",
    "            run_index += 1\n",
    "\n",
    "    FDR_qvalue = multi.multipletests(np.array(rm_NA_pval_list), alpha=0.05, method=\"fdr_bh\", is_sorted=False)\n",
    "    FDR_qvalue_vec = FDR_qvalue[1]\n",
    "\n",
    "    return_fdr_list = [\"NA\"] * len(pval_list)\n",
    "\n",
    "    for index, fdr in enumerate(FDR_qvalue_vec):\n",
    "        raw_index = raw_pval_index_dict[index]\n",
    "        return_fdr_list[raw_index] = fdr\n",
    "\n",
    "    return return_fdr_list"
   ]
  },
  {
   "cell_type": "code",
   "execution_count": 58,
   "id": "90b25e16-bbf4-4181-86fd-e72f88f3bc72",
   "metadata": {},
   "outputs": [
    {
     "data": {
      "text/plain": [
       "'G'"
      ]
     },
     "execution_count": 58,
     "metadata": {},
     "output_type": "execute_result"
    }
   ],
   "source": [
    "ref_fa_dict[\"chr21\"][32940538]"
   ]
  },
  {
   "cell_type": "code",
   "execution_count": 75,
   "id": "15b8e2c3-902a-4ae9-8272-d628760f19f4",
   "metadata": {},
   "outputs": [],
   "source": [
    "# Detect-seq test region chr21:32,940,538-32,940,741\n",
    "\n",
    "input_bam_filename = \"/Users/meng/menghw_HD/course_project/02.python/project.04/data/DdCBE_DetectSeq_rep2_chr21.bam\"\n",
    "\n",
    "region_chr_name = \"chr21\"\n",
    "region_start = 32940538\n",
    "region_end = 32940741\n",
    "\n",
    "bam_file = pysam.AlignmentFile(input_bam_filename, \"rb\")\n",
    "ref_fa = pysam.Fastafile(\"/Users/meng/menghw_HD/reference/hg38/hg38_only_chromosome.fa\")\n",
    "\n",
    "out_file = open(\"./region_mut_site_test.tsv\", \"w\")\n",
    "\n",
    "# reference load\n",
    "\n",
    "\n",
    "mpileup_res = bam_file.pileup(contig=region_chr_name, start=region_start, end=region_end, \n",
    "                              truncate=True,\n",
    "                              max_depth=2000,\n",
    "                              fastafile=ref_fa,\n",
    "                              ignore_overlaps=True,\n",
    "                              min_base_quality=0,\n",
    "                              min_mapping_quality=0\n",
    "                             )\n",
    "\n",
    "# C-to-T, G-to-A\n",
    "pval_res_list = []\n",
    "\n",
    "for info in mpileup_res:\n",
    "    \n",
    "    ref_base = ref_fa_dict[\"chr21\"][info.pos]\n",
    "    ref_pos = info.pos+1\n",
    "    \n",
    "    if ref_base == \"C\":\n",
    "        count_list = list(map(str.upper, info.get_query_sequences()))\n",
    "        count_mut = count_list.count(\"T\")\n",
    "        count_total = len(count_list)\n",
    "    \n",
    "    elif ref_base == \"G\":\n",
    "        count_list = list(map(str.upper, info.get_query_sequences()))\n",
    "        count_mut = count_list.count(\"A\")\n",
    "        count_total = len(count_list)\n",
    "    \n",
    "    else:\n",
    "        continue\n",
    "    \n",
    "    # calculate pvalue\n",
    "    pval = stats.binom_test(x=count_mut,\n",
    "                            n=count_total,\n",
    "                            p=0.03,\n",
    "                            alternative='greater')\n",
    "    \n",
    "    \n",
    "    pval_res_list.append(pval)\n",
    "    \n",
    "    # output info \n",
    "    out_list = [\n",
    "        region_chr_name,\n",
    "        ref_pos,\n",
    "        ref_base,\n",
    "        count_mut,\n",
    "        count_total,\n",
    "        pval\n",
    "    ]\n",
    "    \n",
    "    out_str = \"\\t\".join(map(str, out_list))\n",
    "    out_file.write(out_str + \"\\n\")\n",
    "\n",
    "# close file \n",
    "out_file.close()\n",
    "bam_file.close()\n"
   ]
  },
  {
   "cell_type": "code",
   "execution_count": 79,
   "id": "e7bf9581-3db9-40d0-8aaf-54d563bcfbba",
   "metadata": {},
   "outputs": [],
   "source": [
    "FDR_res = make_qvalue_with_BH_method(pval_res_list)\n",
    "FDR_res[1:10]\n",
    "\n",
    "final_out = open(\"./region_mut_site_test.AddFDR.tsv\", \"w\")\n",
    "\n",
    "with open(\"./region_mut_site_test.tsv\", \"r\") as input_file:\n",
    "    for index, line in enumerate(input_file):\n",
    "        line_list = line.strip().split(\"\\t\")\n",
    "        line_list.append(FDR_res[index])\n",
    "        \n",
    "        out_str = \"\\t\".join(map(str, line_list))\n",
    "        final_out.write(out_str + \"\\n\")\n",
    "    \n",
    "final_out.close()\n",
    "    "
   ]
  },
  {
   "cell_type": "code",
   "execution_count": null,
   "id": "ba758842-5fc2-4a40-a7d5-cff6f5745515",
   "metadata": {},
   "outputs": [],
   "source": []
  }
 ],
 "metadata": {
  "kernelspec": {
   "display_name": "Python 3 (ipykernel)",
   "language": "python",
   "name": "python3"
  },
  "language_info": {
   "codemirror_mode": {
    "name": "ipython",
    "version": 3
   },
   "file_extension": ".py",
   "mimetype": "text/x-python",
   "name": "python",
   "nbconvert_exporter": "python",
   "pygments_lexer": "ipython3",
   "version": "3.8.13"
  }
 },
 "nbformat": 4,
 "nbformat_minor": 5
}
