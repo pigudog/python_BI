{
 "cells": [
  {
   "cell_type": "markdown",
   "id": "ff33dbe4-06ce-4244-83d3-02ad418e9eda",
   "metadata": {},
   "source": [
    "# make windows and calcualte GC ratio\n",
    "\n",
    "MENG Haowei\n",
    "\n",
    "Data 2022-09-25"
   ]
  },
  {
   "cell_type": "code",
   "execution_count": 7,
   "id": "0a810d00-3722-4f11-945f-84cca24a829a",
   "metadata": {},
   "outputs": [],
   "source": [
    "# step1 load ref length\n",
    "# step2 make windows \n",
    "\n",
    "ref_bin_list = []\n",
    "\n",
    "window_size = 1000000\n",
    "\n",
    "with open(\"./hg38_only_chromosome.fa.fai\" , \"r\") as ref_fai:\n",
    "    for ref_info in ref_fai:\n",
    "        ref_info_list = ref_info.strip().split(\"\\t\")\n",
    "        ref_length = int(ref_info_list[1])\n",
    "        \n",
    "        for start_idx in range(0, ref_length, window_size):\n",
    "            window_start =  start_idx\n",
    "            window_end = window_start + window_size\n",
    "            \n",
    "            # fix \n",
    "            if window_end > ref_length:\n",
    "                window_end = ref_length - 1\n",
    "            \n",
    "            ref_bin_list.append([ref_info_list[0], window_start, window_end])\n",
    "    \n",
    "\n"
   ]
  },
  {
   "cell_type": "code",
   "execution_count": 23,
   "id": "f9b72b5e-7546-4ddc-b95d-d375e6902d2d",
   "metadata": {},
   "outputs": [
    {
     "name": "stdout",
     "output_type": "stream",
     "text": [
      "chr1\n",
      "chr2\n",
      "chr3\n",
      "chr4\n",
      "chr5\n",
      "chr6\n",
      "chr7\n",
      "chr8\n",
      "chr9\n",
      "chr10\n",
      "chr11\n",
      "chr12\n",
      "chr13\n",
      "chr14\n",
      "chr15\n",
      "chr16\n",
      "chr17\n",
      "chr18\n",
      "chr19\n",
      "chr20\n",
      "chr21\n",
      "chr22\n",
      "chrX\n",
      "chrY\n",
      "chrM\n"
     ]
    }
   ],
   "source": [
    "# step3 load ref sequence \n",
    "from Bio import SeqIO\n",
    "\n",
    "ref_fa_file = SeqIO.parse(handle=\"/Users/meng/menghw_HD/reference/hg38/hg38_only_chromosome.fa\", \n",
    "                          format=\"fasta\")\n",
    "\n",
    "ref_dict = {}\n",
    "\n",
    "for ref in ref_fa_file:\n",
    "    print(ref.id)\n",
    "    ref_dict[ref.id] = str(ref.seq).upper()\n"
   ]
  },
  {
   "cell_type": "code",
   "execution_count": null,
   "id": "5588c106-0a10-4470-a2cc-f7c5997caab0",
   "metadata": {},
   "outputs": [],
   "source": []
  },
  {
   "cell_type": "code",
   "execution_count": 47,
   "id": "5f6741b7-6f5a-499d-ae42-7add7e6853c9",
   "metadata": {},
   "outputs": [],
   "source": [
    "# step4 calcualte GC ratio\n",
    "\n",
    "out_file = open(\"./hg38_CG_ratio.window_1M.tsv\", \"w\")\n",
    "\n",
    "for window in ref_bin_list:\n",
    "    chr_name, window_start, window_end = window\n",
    "    \n",
    "    window_seq = ref_dict[chr_name][window_start:window_end]\n",
    "    \n",
    "    window_G_count = window_seq.count(\"G\")\n",
    "    window_C_count = window_seq.count(\"C\")\n",
    "    window_GC_ratio = round((window_G_count + window_C_count) / 1.0 / (window_end - window_start), 10)\n",
    "    \n",
    "    out_list = [\n",
    "        chr_name, \n",
    "        window_start, \n",
    "        window_end,\n",
    "        window_G_count, \n",
    "        window_C_count, \n",
    "        window_GC_ratio\n",
    "    ]\n",
    "    \n",
    "    out_str = \"\\t\".join(map(str, out_list))\n",
    "    \n",
    "    out_file.write(out_str + \"\\n\")\n",
    "    \n",
    "\n",
    "out_file.close()    "
   ]
  },
  {
   "cell_type": "code",
   "execution_count": 44,
   "id": "a567a016-7ce2-4c9f-9c13-d18202d47ca0",
   "metadata": {},
   "outputs": [
    {
     "name": "stdout",
     "output_type": "stream",
     "text": [
      "chr1\n",
      "chr2\n",
      "chr3\n",
      "chr4\n",
      "chr5\n",
      "chr6\n",
      "chr7\n",
      "chr8\n",
      "chr9\n",
      "chr10\n",
      "chr11\n",
      "chr12\n",
      "chr13\n",
      "chr14\n",
      "chr15\n",
      "chr16\n",
      "chr17\n",
      "chr18\n",
      "chr19\n",
      "chr20\n",
      "chr21\n",
      "chr22\n",
      "chrX\n",
      "chrY\n",
      "chrM\n"
     ]
    }
   ],
   "source": [
    "# step5 calcualte N count\n",
    "\n",
    "out_file = open(\"./hg38_CG_ratio.window_1M.tsv\", \"w\")\n",
    "\n",
    "total_N_count = 0 \n",
    "total_length = 0\n",
    "\n",
    "for chr_name in ref_dict:\n",
    "    print(chr_name)\n",
    "    N_count = ref_dict[chr_name].count(\"N\")\n",
    "    \n",
    "    total_N_count = total_N_count + N_count\n",
    "    total_length = total_length + len(ref_dict[chr_name])\n",
    "\n"
   ]
  },
  {
   "cell_type": "code",
   "execution_count": 45,
   "id": "b78ac895-d09b-42ae-81a8-8d156cb4b9d4",
   "metadata": {},
   "outputs": [
    {
     "data": {
      "text/plain": [
       "0.04877485454432761"
      ]
     },
     "execution_count": 45,
     "metadata": {},
     "output_type": "execute_result"
    }
   ],
   "source": [
    "total_N_count / total_length"
   ]
  },
  {
   "cell_type": "code",
   "execution_count": 46,
   "id": "ff4dde02-641d-4b67-8811-d4c5a4335414",
   "metadata": {},
   "outputs": [
    {
     "data": {
      "text/plain": [
       "3088286401"
      ]
     },
     "execution_count": 46,
     "metadata": {},
     "output_type": "execute_result"
    }
   ],
   "source": [
    "total_length"
   ]
  },
  {
   "cell_type": "code",
   "execution_count": 50,
   "id": "a5665c48-b1bc-42d7-a58c-a54b12fdfb4f",
   "metadata": {},
   "outputs": [],
   "source": [
    "import Bio"
   ]
  },
  {
   "cell_type": "code",
   "execution_count": 54,
   "id": "7518e6c7-ce6f-40ad-b616-c81356560598",
   "metadata": {},
   "outputs": [],
   "source": [
    "# laod CTCF\n",
    "\n",
    "in_bed_file = open(\"./CTCF_rep1.sort.bed\", \"r\")\n",
    "out_fq_file = open(\"./CTCF_rep1.sort.fa\", \"w\")\n",
    "\n",
    "\n",
    "for line in in_bed_file:\n",
    "    line_list = line.strip().split(\"\\t\")\n",
    "    \n",
    "    chr_name = line_list[0]\n",
    "    region_start = int(line_list[1])\n",
    "    region_end = int(line_list[2])\n",
    "    \n",
    "    ref_seq = ref_dict[chr_name][region_start:region_end]\n",
    "    \n",
    "    out_fa_header = \">%s:%s-%s\" % (chr_name, region_start, region_end)\n",
    "    \n",
    "    out_fq_file.write(out_fa_header + \"\\n\")\n",
    "    out_fq_file.write(ref_seq + \"\\n\")\n",
    "    \n",
    "in_bed_file.close()\n",
    "out_fq_file.close()\n",
    "    \n"
   ]
  },
  {
   "cell_type": "code",
   "execution_count": null,
   "id": "5aba88f4-761d-480e-a0e8-566b1cc0fba0",
   "metadata": {},
   "outputs": [],
   "source": []
  }
 ],
 "metadata": {
  "kernelspec": {
   "display_name": "Python 3 (ipykernel)",
   "language": "python",
   "name": "python3"
  },
  "language_info": {
   "codemirror_mode": {
    "name": "ipython",
    "version": 3
   },
   "file_extension": ".py",
   "mimetype": "text/x-python",
   "name": "python",
   "nbconvert_exporter": "python",
   "pygments_lexer": "ipython3",
   "version": "3.8.13"
  }
 },
 "nbformat": 4,
 "nbformat_minor": 5
}
